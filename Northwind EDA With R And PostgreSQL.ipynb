{
 "cells": [
  {
   "cell_type": "code",
   "execution_count": null,
   "id": "3cb7c0ce",
   "metadata": {
    "vscode": {
     "languageId": "r"
    }
   },
   "outputs": [],
   "source": [
    "# Importing libraries\n",
    "library(dplyr)\n",
    "library(ggplot2)\n",
    "library(readr)\n",
    "library(DBI)\n",
    "library(lubridate)"
   ]
  },
  {
   "cell_type": "code",
   "execution_count": null,
   "id": "ab5c5604",
   "metadata": {
    "vscode": {
     "languageId": "r"
    }
   },
   "outputs": [],
   "source": [
    "# Creation of database connection\n",
    "con <- dbConnect(\n",
    "    RPostgres::Postgres(),\n",
    "    dbname = \"Northwind\",\n",
    "    host = Sys.getenv(\"PG_HOST\"),\n",
    "    user = Sys.getenv(\"PG_USER\"),\n",
    "    password = Sys.getenv(\"PG_PASSWORD\")\n",
    ")"
   ]
  },
  {
   "cell_type": "code",
   "execution_count": null,
   "id": "a9ed85fc",
   "metadata": {
    "vscode": {
     "languageId": "r"
    }
   },
   "outputs": [
    {
     "data": {
      "text/html": [
       "<table class=\"dataframe\">\n",
       "<caption>A tibble: 14 × 1</caption>\n",
       "<thead>\n",
       "\t<tr><th scope=col>dbListTables(con)</th></tr>\n",
       "\t<tr><th scope=col>&lt;chr&gt;</th></tr>\n",
       "</thead>\n",
       "<tbody>\n",
       "\t<tr><td>categories            </td></tr>\n",
       "\t<tr><td>customer_customer_demo</td></tr>\n",
       "\t<tr><td>customer_demographics </td></tr>\n",
       "\t<tr><td>customers             </td></tr>\n",
       "\t<tr><td>employee_territories  </td></tr>\n",
       "\t<tr><td>employees             </td></tr>\n",
       "\t<tr><td>order_details         </td></tr>\n",
       "\t<tr><td>orders                </td></tr>\n",
       "\t<tr><td>products              </td></tr>\n",
       "\t<tr><td>region                </td></tr>\n",
       "\t<tr><td>shippers              </td></tr>\n",
       "\t<tr><td>suppliers             </td></tr>\n",
       "\t<tr><td>territories           </td></tr>\n",
       "\t<tr><td>us_states             </td></tr>\n",
       "</tbody>\n",
       "</table>\n"
      ],
      "text/latex": [
       "A tibble: 14 × 1\n",
       "\\begin{tabular}{l}\n",
       " dbListTables(con)\\\\\n",
       " <chr>\\\\\n",
       "\\hline\n",
       "\t categories            \\\\\n",
       "\t customer\\_customer\\_demo\\\\\n",
       "\t customer\\_demographics \\\\\n",
       "\t customers             \\\\\n",
       "\t employee\\_territories  \\\\\n",
       "\t employees             \\\\\n",
       "\t order\\_details         \\\\\n",
       "\t orders                \\\\\n",
       "\t products              \\\\\n",
       "\t region                \\\\\n",
       "\t shippers              \\\\\n",
       "\t suppliers             \\\\\n",
       "\t territories           \\\\\n",
       "\t us\\_states             \\\\\n",
       "\\end{tabular}\n"
      ],
      "text/markdown": [
       "\n",
       "A tibble: 14 × 1\n",
       "\n",
       "| dbListTables(con) &lt;chr&gt; |\n",
       "|---|\n",
       "| categories             |\n",
       "| customer_customer_demo |\n",
       "| customer_demographics  |\n",
       "| customers              |\n",
       "| employee_territories   |\n",
       "| employees              |\n",
       "| order_details          |\n",
       "| orders                 |\n",
       "| products               |\n",
       "| region                 |\n",
       "| shippers               |\n",
       "| suppliers              |\n",
       "| territories            |\n",
       "| us_states              |\n",
       "\n"
      ],
      "text/plain": [
       "   dbListTables(con)     \n",
       "1  categories            \n",
       "2  customer_customer_demo\n",
       "3  customer_demographics \n",
       "4  customers             \n",
       "5  employee_territories  \n",
       "6  employees             \n",
       "7  order_details         \n",
       "8  orders                \n",
       "9  products              \n",
       "10 region                \n",
       "11 shippers              \n",
       "12 suppliers             \n",
       "13 territories           \n",
       "14 us_states             "
      ]
     },
     "metadata": {},
     "output_type": "display_data"
    }
   ],
   "source": [
    "# print a tibble of all tables in database \n",
    "tables <- tibble(dbListTables(con))\n",
    "tables"
   ]
  },
  {
   "cell_type": "code",
   "execution_count": null,
   "id": "e01d9419",
   "metadata": {
    "vscode": {
     "languageId": "r"
    }
   },
   "outputs": [],
   "source": [
    "#use the dbgetquery function to extract columns from database to create dataset\n",
    "df <- dbGetQuery(\n",
    "    con,\n",
    "    \"\n",
    "    SELECT\n",
    "      o.order_date,\n",
    "      EXTRACT(YEAR FROM o.order_date) AS year,\n",
    "      TO_CHAR(order_date, 'Month') AS month,\n",
    "      p.product_name, \n",
    "      c.category_name,\n",
    "      od.unit_price, \n",
    "      od.quantity AS order_quantity\n",
    "    FROM order_details as od\n",
    "    INNER JOIN products as p\n",
    "    USING(product_id)\n",
    "    INNER JOIN categories as c\n",
    "    USING(category_id)\n",
    "    INNER JOIN orders as o\n",
    "    USING(order_id);  \n",
    "    \"\n",
    ")"
   ]
  },
  {
   "cell_type": "code",
   "execution_count": null,
   "id": "a3fae490",
   "metadata": {
    "vscode": {
     "languageId": "r"
    }
   },
   "outputs": [
    {
     "name": "stdout",
     "output_type": "stream",
     "text": [
      "Rows: 2,155\n",
      "Columns: 7\n",
      "$ order_date     \u001b[3m\u001b[90m<date>\u001b[39m\u001b[23m 1996-07-04\u001b[90m, \u001b[39m1996-07-04\u001b[90m, \u001b[39m1996-07-04\u001b[90m, \u001b[39m1996-07-05\u001b[90m, \u001b[39m1996-0…\n",
      "$ year           \u001b[3m\u001b[90m<dbl>\u001b[39m\u001b[23m 1996\u001b[90m, \u001b[39m1996\u001b[90m, \u001b[39m1996\u001b[90m, \u001b[39m1996\u001b[90m, \u001b[39m1996\u001b[90m, \u001b[39m1996\u001b[90m, \u001b[39m1996\u001b[90m, \u001b[39m1996\u001b[90m, \u001b[39m1996\u001b[90m, \u001b[39m1…\n",
      "$ month          \u001b[3m\u001b[90m<chr>\u001b[39m\u001b[23m \"July     \"\u001b[90m, \u001b[39m\"July     \"\u001b[90m, \u001b[39m\"July     \"\u001b[90m, \u001b[39m\"July     \"\u001b[90m, \u001b[39m\"Ju…\n",
      "$ product_name   \u001b[3m\u001b[90m<chr>\u001b[39m\u001b[23m \"Queso Cabrales\"\u001b[90m, \u001b[39m\"Singaporean Hokkien Fried Mee\"\u001b[90m, \u001b[39m\"Moz…\n",
      "$ category_name  \u001b[3m\u001b[90m<chr>\u001b[39m\u001b[23m \"Dairy Products\"\u001b[90m, \u001b[39m\"Grains/Cereals\"\u001b[90m, \u001b[39m\"Dairy Products\"\u001b[90m, \u001b[39m\"…\n",
      "$ unit_price     \u001b[3m\u001b[90m<dbl>\u001b[39m\u001b[23m 14.0\u001b[90m, \u001b[39m9.8\u001b[90m, \u001b[39m34.8\u001b[90m, \u001b[39m18.6\u001b[90m, \u001b[39m42.4\u001b[90m, \u001b[39m7.7\u001b[90m, \u001b[39m42.4\u001b[90m, \u001b[39m16.8\u001b[90m, \u001b[39m16.8\u001b[90m, \u001b[39m15.…\n",
      "$ order_quantity \u001b[3m\u001b[90m<int>\u001b[39m\u001b[23m 12\u001b[90m, \u001b[39m10\u001b[90m, \u001b[39m5\u001b[90m, \u001b[39m9\u001b[90m, \u001b[39m40\u001b[90m, \u001b[39m10\u001b[90m, \u001b[39m35\u001b[90m, \u001b[39m15\u001b[90m, \u001b[39m6\u001b[90m, \u001b[39m15\u001b[90m, \u001b[39m20\u001b[90m, \u001b[39m40\u001b[90m, \u001b[39m25\u001b[90m, \u001b[39m40\u001b[90m, \u001b[39m20…\n"
     ]
    }
   ],
   "source": [
    "#view structure of dataset\n",
    "glimpse(df)"
   ]
  },
  {
   "cell_type": "code",
   "execution_count": null,
   "id": "aa69c1a3",
   "metadata": {
    "vscode": {
     "languageId": "r"
    }
   },
   "outputs": [
    {
     "data": {
      "text/html": [
       "0"
      ],
      "text/latex": [
       "0"
      ],
      "text/markdown": [
       "0"
      ],
      "text/plain": [
       "[1] 0"
      ]
     },
     "metadata": {},
     "output_type": "display_data"
    }
   ],
   "source": [
    "#inspect for missing values\n",
    "sum(is.na(df))"
   ]
  },
  {
   "cell_type": "code",
   "execution_count": null,
   "id": "bd5194ad",
   "metadata": {
    "vscode": {
     "languageId": "r"
    }
   },
   "outputs": [
    {
     "data": {
      "text/html": [
       "<table class=\"dataframe\">\n",
       "<caption>A data.frame: 6 × 7</caption>\n",
       "<thead>\n",
       "\t<tr><th></th><th scope=col>order_date</th><th scope=col>year</th><th scope=col>month</th><th scope=col>product_name</th><th scope=col>category_name</th><th scope=col>unit_price</th><th scope=col>order_quantity</th></tr>\n",
       "\t<tr><th></th><th scope=col>&lt;date&gt;</th><th scope=col>&lt;dbl&gt;</th><th scope=col>&lt;chr&gt;</th><th scope=col>&lt;chr&gt;</th><th scope=col>&lt;chr&gt;</th><th scope=col>&lt;dbl&gt;</th><th scope=col>&lt;int&gt;</th></tr>\n",
       "</thead>\n",
       "<tbody>\n",
       "\t<tr><th scope=row>1</th><td>1996-07-04</td><td>1996</td><td>July     </td><td>Queso Cabrales                 </td><td>Dairy Products</td><td>14.0</td><td>12</td></tr>\n",
       "\t<tr><th scope=row>2</th><td>1996-07-04</td><td>1996</td><td>July     </td><td>Singaporean Hokkien Fried Mee  </td><td>Grains/Cereals</td><td> 9.8</td><td>10</td></tr>\n",
       "\t<tr><th scope=row>3</th><td>1996-07-04</td><td>1996</td><td>July     </td><td>Mozzarella di Giovanni         </td><td>Dairy Products</td><td>34.8</td><td> 5</td></tr>\n",
       "\t<tr><th scope=row>4</th><td>1996-07-05</td><td>1996</td><td>July     </td><td>Tofu                           </td><td>Produce       </td><td>18.6</td><td> 9</td></tr>\n",
       "\t<tr><th scope=row>5</th><td>1996-07-05</td><td>1996</td><td>July     </td><td>Manjimup Dried Apples          </td><td>Produce       </td><td>42.4</td><td>40</td></tr>\n",
       "\t<tr><th scope=row>6</th><td>1996-07-08</td><td>1996</td><td>July     </td><td>Jack's New England Clam Chowder</td><td>Seafood       </td><td> 7.7</td><td>10</td></tr>\n",
       "</tbody>\n",
       "</table>\n"
      ],
      "text/latex": [
       "A data.frame: 6 × 7\n",
       "\\begin{tabular}{r|lllllll}\n",
       "  & order\\_date & year & month & product\\_name & category\\_name & unit\\_price & order\\_quantity\\\\\n",
       "  & <date> & <dbl> & <chr> & <chr> & <chr> & <dbl> & <int>\\\\\n",
       "\\hline\n",
       "\t1 & 1996-07-04 & 1996 & July      & Queso Cabrales                  & Dairy Products & 14.0 & 12\\\\\n",
       "\t2 & 1996-07-04 & 1996 & July      & Singaporean Hokkien Fried Mee   & Grains/Cereals &  9.8 & 10\\\\\n",
       "\t3 & 1996-07-04 & 1996 & July      & Mozzarella di Giovanni          & Dairy Products & 34.8 &  5\\\\\n",
       "\t4 & 1996-07-05 & 1996 & July      & Tofu                            & Produce        & 18.6 &  9\\\\\n",
       "\t5 & 1996-07-05 & 1996 & July      & Manjimup Dried Apples           & Produce        & 42.4 & 40\\\\\n",
       "\t6 & 1996-07-08 & 1996 & July      & Jack's New England Clam Chowder & Seafood        &  7.7 & 10\\\\\n",
       "\\end{tabular}\n"
      ],
      "text/markdown": [
       "\n",
       "A data.frame: 6 × 7\n",
       "\n",
       "| <!--/--> | order_date &lt;date&gt; | year &lt;dbl&gt; | month &lt;chr&gt; | product_name &lt;chr&gt; | category_name &lt;chr&gt; | unit_price &lt;dbl&gt; | order_quantity &lt;int&gt; |\n",
       "|---|---|---|---|---|---|---|---|\n",
       "| 1 | 1996-07-04 | 1996 | July      | Queso Cabrales                  | Dairy Products | 14.0 | 12 |\n",
       "| 2 | 1996-07-04 | 1996 | July      | Singaporean Hokkien Fried Mee   | Grains/Cereals |  9.8 | 10 |\n",
       "| 3 | 1996-07-04 | 1996 | July      | Mozzarella di Giovanni          | Dairy Products | 34.8 |  5 |\n",
       "| 4 | 1996-07-05 | 1996 | July      | Tofu                            | Produce        | 18.6 |  9 |\n",
       "| 5 | 1996-07-05 | 1996 | July      | Manjimup Dried Apples           | Produce        | 42.4 | 40 |\n",
       "| 6 | 1996-07-08 | 1996 | July      | Jack's New England Clam Chowder | Seafood        |  7.7 | 10 |\n",
       "\n"
      ],
      "text/plain": [
       "  order_date year month     product_name                    category_name \n",
       "1 1996-07-04 1996 July      Queso Cabrales                  Dairy Products\n",
       "2 1996-07-04 1996 July      Singaporean Hokkien Fried Mee   Grains/Cereals\n",
       "3 1996-07-04 1996 July      Mozzarella di Giovanni          Dairy Products\n",
       "4 1996-07-05 1996 July      Tofu                            Produce       \n",
       "5 1996-07-05 1996 July      Manjimup Dried Apples           Produce       \n",
       "6 1996-07-08 1996 July      Jack's New England Clam Chowder Seafood       \n",
       "  unit_price order_quantity\n",
       "1 14.0       12            \n",
       "2  9.8       10            \n",
       "3 34.8        5            \n",
       "4 18.6        9            \n",
       "5 42.4       40            \n",
       "6  7.7       10            "
      ]
     },
     "metadata": {},
     "output_type": "display_data"
    }
   ],
   "source": [
    "#first 5 samples\n",
    "head(df)"
   ]
  },
  {
   "cell_type": "markdown",
   "id": "144d1bda",
   "metadata": {
    "vscode": {
     "languageId": "r"
    }
   },
   "source": [
    "# 📦 What are the best-selling products and categories?"
   ]
  },
  {
   "cell_type": "code",
   "execution_count": null,
   "id": "d338db0e",
   "metadata": {
    "vscode": {
     "languageId": "r"
    }
   },
   "outputs": [
    {
     "data": {
      "text/html": [
       "<table class=\"dataframe\">\n",
       "<caption>A tibble: 20 × 3</caption>\n",
       "<thead>\n",
       "\t<tr><th scope=col>product_name</th><th scope=col>category_name</th><th scope=col>total_revenue</th></tr>\n",
       "\t<tr><th scope=col>&lt;chr&gt;</th><th scope=col>&lt;chr&gt;</th><th scope=col>&lt;dbl&gt;</th></tr>\n",
       "</thead>\n",
       "<tbody>\n",
       "\t<tr><td>Côte de Blaye                  </td><td>Beverages     </td><td>149984.2</td></tr>\n",
       "\t<tr><td>Thüringer Rostbratwurst        </td><td>Meat/Poultry  </td><td> 87736.4</td></tr>\n",
       "\t<tr><td>Raclette Courdavault           </td><td>Dairy Products</td><td> 76296.0</td></tr>\n",
       "\t<tr><td>Camembert Pierrot              </td><td>Dairy Products</td><td> 50286.0</td></tr>\n",
       "\t<tr><td>Tarte au sucre                 </td><td>Confections   </td><td> 49827.9</td></tr>\n",
       "\t<tr><td>Gnocchi di nonna Alice         </td><td>Grains/Cereals</td><td> 45121.2</td></tr>\n",
       "\t<tr><td>Manjimup Dried Apples          </td><td>Produce       </td><td> 44742.6</td></tr>\n",
       "\t<tr><td>Alice Mutton                   </td><td>Meat/Poultry  </td><td> 35482.2</td></tr>\n",
       "\t<tr><td>Carnarvon Tigers               </td><td>Seafood       </td><td> 31987.5</td></tr>\n",
       "\t<tr><td>Rössle Sauerkraut              </td><td>Produce       </td><td> 26865.6</td></tr>\n",
       "\t<tr><td>Mozzarella di Giovanni         </td><td>Dairy Products</td><td> 25738.8</td></tr>\n",
       "\t<tr><td>Ipoh Coffee                    </td><td>Beverages     </td><td> 25079.2</td></tr>\n",
       "\t<tr><td>Gudbrandsdalsost               </td><td>Dairy Products</td><td> 24307.2</td></tr>\n",
       "\t<tr><td>Sir Rodney's Marmalade         </td><td>Confections   </td><td> 23635.8</td></tr>\n",
       "\t<tr><td>Wimmers gute Semmelknödel      </td><td>Grains/Cereals</td><td> 23009.0</td></tr>\n",
       "\t<tr><td>Uncle Bob's Organic Dried Pears</td><td>Produce       </td><td> 22464.0</td></tr>\n",
       "\t<tr><td>Ikura                          </td><td>Seafood       </td><td> 22140.2</td></tr>\n",
       "\t<tr><td>Gumbär Gummibärchen            </td><td>Confections   </td><td> 21534.9</td></tr>\n",
       "\t<tr><td>Perth Pasties                  </td><td>Meat/Poultry  </td><td> 21510.2</td></tr>\n",
       "\t<tr><td>Flotemysost                    </td><td>Dairy Products</td><td> 20876.5</td></tr>\n",
       "</tbody>\n",
       "</table>\n"
      ],
      "text/latex": [
       "A tibble: 20 × 3\n",
       "\\begin{tabular}{lll}\n",
       " product\\_name & category\\_name & total\\_revenue\\\\\n",
       " <chr> & <chr> & <dbl>\\\\\n",
       "\\hline\n",
       "\t Côte de Blaye                   & Beverages      & 149984.2\\\\\n",
       "\t Thüringer Rostbratwurst         & Meat/Poultry   &  87736.4\\\\\n",
       "\t Raclette Courdavault            & Dairy Products &  76296.0\\\\\n",
       "\t Camembert Pierrot               & Dairy Products &  50286.0\\\\\n",
       "\t Tarte au sucre                  & Confections    &  49827.9\\\\\n",
       "\t Gnocchi di nonna Alice          & Grains/Cereals &  45121.2\\\\\n",
       "\t Manjimup Dried Apples           & Produce        &  44742.6\\\\\n",
       "\t Alice Mutton                    & Meat/Poultry   &  35482.2\\\\\n",
       "\t Carnarvon Tigers                & Seafood        &  31987.5\\\\\n",
       "\t Rössle Sauerkraut               & Produce        &  26865.6\\\\\n",
       "\t Mozzarella di Giovanni          & Dairy Products &  25738.8\\\\\n",
       "\t Ipoh Coffee                     & Beverages      &  25079.2\\\\\n",
       "\t Gudbrandsdalsost                & Dairy Products &  24307.2\\\\\n",
       "\t Sir Rodney's Marmalade          & Confections    &  23635.8\\\\\n",
       "\t Wimmers gute Semmelknödel       & Grains/Cereals &  23009.0\\\\\n",
       "\t Uncle Bob's Organic Dried Pears & Produce        &  22464.0\\\\\n",
       "\t Ikura                           & Seafood        &  22140.2\\\\\n",
       "\t Gumbär Gummibärchen             & Confections    &  21534.9\\\\\n",
       "\t Perth Pasties                   & Meat/Poultry   &  21510.2\\\\\n",
       "\t Flotemysost                     & Dairy Products &  20876.5\\\\\n",
       "\\end{tabular}\n"
      ],
      "text/markdown": [
       "\n",
       "A tibble: 20 × 3\n",
       "\n",
       "| product_name &lt;chr&gt; | category_name &lt;chr&gt; | total_revenue &lt;dbl&gt; |\n",
       "|---|---|---|\n",
       "| Côte de Blaye                   | Beverages      | 149984.2 |\n",
       "| Thüringer Rostbratwurst         | Meat/Poultry   |  87736.4 |\n",
       "| Raclette Courdavault            | Dairy Products |  76296.0 |\n",
       "| Camembert Pierrot               | Dairy Products |  50286.0 |\n",
       "| Tarte au sucre                  | Confections    |  49827.9 |\n",
       "| Gnocchi di nonna Alice          | Grains/Cereals |  45121.2 |\n",
       "| Manjimup Dried Apples           | Produce        |  44742.6 |\n",
       "| Alice Mutton                    | Meat/Poultry   |  35482.2 |\n",
       "| Carnarvon Tigers                | Seafood        |  31987.5 |\n",
       "| Rössle Sauerkraut               | Produce        |  26865.6 |\n",
       "| Mozzarella di Giovanni          | Dairy Products |  25738.8 |\n",
       "| Ipoh Coffee                     | Beverages      |  25079.2 |\n",
       "| Gudbrandsdalsost                | Dairy Products |  24307.2 |\n",
       "| Sir Rodney's Marmalade          | Confections    |  23635.8 |\n",
       "| Wimmers gute Semmelknödel       | Grains/Cereals |  23009.0 |\n",
       "| Uncle Bob's Organic Dried Pears | Produce        |  22464.0 |\n",
       "| Ikura                           | Seafood        |  22140.2 |\n",
       "| Gumbär Gummibärchen             | Confections    |  21534.9 |\n",
       "| Perth Pasties                   | Meat/Poultry   |  21510.2 |\n",
       "| Flotemysost                     | Dairy Products |  20876.5 |\n",
       "\n"
      ],
      "text/plain": [
       "   product_name                    category_name  total_revenue\n",
       "1  Côte de Blaye                   Beverages      149984.2     \n",
       "2  Thüringer Rostbratwurst         Meat/Poultry    87736.4     \n",
       "3  Raclette Courdavault            Dairy Products  76296.0     \n",
       "4  Camembert Pierrot               Dairy Products  50286.0     \n",
       "5  Tarte au sucre                  Confections     49827.9     \n",
       "6  Gnocchi di nonna Alice          Grains/Cereals  45121.2     \n",
       "7  Manjimup Dried Apples           Produce         44742.6     \n",
       "8  Alice Mutton                    Meat/Poultry    35482.2     \n",
       "9  Carnarvon Tigers                Seafood         31987.5     \n",
       "10 Rössle Sauerkraut               Produce         26865.6     \n",
       "11 Mozzarella di Giovanni          Dairy Products  25738.8     \n",
       "12 Ipoh Coffee                     Beverages       25079.2     \n",
       "13 Gudbrandsdalsost                Dairy Products  24307.2     \n",
       "14 Sir Rodney's Marmalade          Confections     23635.8     \n",
       "15 Wimmers gute Semmelknödel       Grains/Cereals  23009.0     \n",
       "16 Uncle Bob's Organic Dried Pears Produce         22464.0     \n",
       "17 Ikura                           Seafood         22140.2     \n",
       "18 Gumbär Gummibärchen             Confections     21534.9     \n",
       "19 Perth Pasties                   Meat/Poultry    21510.2     \n",
       "20 Flotemysost                     Dairy Products  20876.5     "
      ]
     },
     "metadata": {},
     "output_type": "display_data"
    }
   ],
   "source": [
    "# prints out the top 20 performing products by revenue in descending order\n",
    "best_prod_performance <- df %>%\n",
    "group_by(product_name, category_name)%>%\n",
    "summarise(total_revenue = sum(unit_price * order_quantity, na.rm = TRUE), .groups = 'drop_last')%>% \n",
    "ungroup()%>%\n",
    "arrange(desc(total_revenue))\n",
    "\n",
    "head(best_prod_performance, 20)"
   ]
  },
  {
   "cell_type": "code",
   "execution_count": null,
   "id": "3ed5035f",
   "metadata": {
    "vscode": {
     "languageId": "r"
    }
   },
   "outputs": [
    {
     "data": {
      "image/png": "[encoded data removed]",
      "text/plain": [
       "plot without title"
      ]
     },
     "metadata": {
      "image/png": {
       "height": 420,
       "width": 420
      }
     },
     "output_type": "display_data"
    }
   ],
   "source": [
    "# prints out barplot visualizaiton of the top 20 performing products by revenue in descending order\n",
    "ggplot(head(best_prod_performance, 20), aes(x = reorder(product_name, -total_revenue), y = total_revenue)) +\n",
    "geom_col(aes(fill = category_name)) +\n",
    "labs(\n",
    "    title = \"Top 20 Products by Total Revenue\",\n",
    "    x = \"Product Name\",\n",
    "    y = \"Total Revenue\"\n",
    "  ) +\n",
    "  theme_minimal() +\n",
    "  theme(\n",
    "    axis.text.x = element_text(angle = 90, hjust = 1) # Rotate labels if they overlap\n",
    "  )"
   ]
  },
  {
   "cell_type": "code",
   "execution_count": null,
   "id": "72ac396a",
   "metadata": {
    "vscode": {
     "languageId": "r"
    }
   },
   "outputs": [
    {
     "data": {
      "text/html": [
       "<table class=\"dataframe\">\n",
       "<caption>A tibble: 8 × 2</caption>\n",
       "<thead>\n",
       "\t<tr><th scope=col>category_name</th><th scope=col>total_revenue</th></tr>\n",
       "\t<tr><th scope=col>&lt;chr&gt;</th><th scope=col>&lt;dbl&gt;</th></tr>\n",
       "</thead>\n",
       "<tbody>\n",
       "\t<tr><td>Beverages     </td><td>286527.0</td></tr>\n",
       "\t<tr><td>Dairy Products</td><td>251330.5</td></tr>\n",
       "\t<tr><td>Meat/Poultry  </td><td>178188.8</td></tr>\n",
       "\t<tr><td>Confections   </td><td>177099.1</td></tr>\n",
       "\t<tr><td>Seafood       </td><td>141623.1</td></tr>\n",
       "\t<tr><td>Condiments    </td><td>113694.8</td></tr>\n",
       "\t<tr><td>Produce       </td><td>105268.6</td></tr>\n",
       "\t<tr><td>Grains/Cereals</td><td>100726.8</td></tr>\n",
       "</tbody>\n",
       "</table>\n"
      ],
      "text/latex": [
       "A tibble: 8 × 2\n",
       "\\begin{tabular}{ll}\n",
       " category\\_name & total\\_revenue\\\\\n",
       " <chr> & <dbl>\\\\\n",
       "\\hline\n",
       "\t Beverages      & 286527.0\\\\\n",
       "\t Dairy Products & 251330.5\\\\\n",
       "\t Meat/Poultry   & 178188.8\\\\\n",
       "\t Confections    & 177099.1\\\\\n",
       "\t Seafood        & 141623.1\\\\\n",
       "\t Condiments     & 113694.8\\\\\n",
       "\t Produce        & 105268.6\\\\\n",
       "\t Grains/Cereals & 100726.8\\\\\n",
       "\\end{tabular}\n"
      ],
      "text/markdown": [
       "\n",
       "A tibble: 8 × 2\n",
       "\n",
       "| category_name &lt;chr&gt; | total_revenue &lt;dbl&gt; |\n",
       "|---|---|\n",
       "| Beverages      | 286527.0 |\n",
       "| Dairy Products | 251330.5 |\n",
       "| Meat/Poultry   | 178188.8 |\n",
       "| Confections    | 177099.1 |\n",
       "| Seafood        | 141623.1 |\n",
       "| Condiments     | 113694.8 |\n",
       "| Produce        | 105268.6 |\n",
       "| Grains/Cereals | 100726.8 |\n",
       "\n"
      ],
      "text/plain": [
       "  category_name  total_revenue\n",
       "1 Beverages      286527.0     \n",
       "2 Dairy Products 251330.5     \n",
       "3 Meat/Poultry   178188.8     \n",
       "4 Confections    177099.1     \n",
       "5 Seafood        141623.1     \n",
       "6 Condiments     113694.8     \n",
       "7 Produce        105268.6     \n",
       "8 Grains/Cereals 100726.8     "
      ]
     },
     "metadata": {},
     "output_type": "display_data"
    }
   ],
   "source": [
    "# prints out the top performing category name by revenue in descending order\n",
    "best_cat_performance <- df %>%\n",
    "group_by(category_name)%>%\n",
    "summarise(total_revenue = sum(unit_price * order_quantity, na.rm = TRUE), .groups = 'drop_last')%>% \n",
    "ungroup()%>%\n",
    "arrange(desc(total_revenue))\n",
    "\n",
    "best_cat_performance"
   ]
  },
  {
   "cell_type": "code",
   "execution_count": null,
   "id": "9755d1b5",
   "metadata": {
    "vscode": {
     "languageId": "r"
    }
   },
   "outputs": [
    {
     "data": {
      "image/png": "[encoded data removed]",
      "text/plain": [
       "plot without title"
      ]
     },
     "metadata": {
      "image/png": {
       "height": 420,
       "width": 420
      }
     },
     "output_type": "display_data"
    }
   ],
   "source": [
    "# prints out barplot visualizaiton of the top performing category by revenue in descending order\n",
    "ggplot(best_cat_performance, aes(reorder(category_name, -total_revenue), y = total_revenue)) +\n",
    "geom_col(aes(fill = category_name)) +\n",
    "labs(\n",
    "    title = \"Top Categories by Total Revenue\",\n",
    "    x = \"Category Name\",\n",
    "    y = \"Total Revenue\"\n",
    ") +\n",
    " theme_minimal() +\n",
    "  theme(\n",
    "    axis.text.x = element_text(angle = 45, hjust = 1) # Rotate labels if they overlap\n",
    "  )"
   ]
  },
  {
   "cell_type": "markdown",
   "id": "8b481b28",
   "metadata": {
    "vscode": {
     "languageId": "r"
    }
   },
   "source": [
    "# 🕒 Are there any seasonal trends in sales?"
   ]
  },
  {
   "cell_type": "code",
   "execution_count": null,
   "id": "93dde85f",
   "metadata": {
    "vscode": {
     "languageId": "r"
    }
   },
   "outputs": [
    {
     "data": {
      "text/html": [
       "<table class=\"dataframe\">\n",
       "<caption>A tibble: 12 × 2</caption>\n",
       "<thead>\n",
       "\t<tr><th scope=col>month</th><th scope=col>total_revenue</th></tr>\n",
       "\t<tr><th scope=col>&lt;chr&gt;</th><th scope=col>&lt;dbl&gt;</th></tr>\n",
       "</thead>\n",
       "<tbody>\n",
       "\t<tr><td>April    </td><td>190329.95</td></tr>\n",
       "\t<tr><td>January  </td><td>167547.52</td></tr>\n",
       "\t<tr><td>March    </td><td>149805.35</td></tr>\n",
       "\t<tr><td>February </td><td>145769.15</td></tr>\n",
       "\t<tr><td>December </td><td>128429.66</td></tr>\n",
       "\t<tr><td>October  </td><td>111532.10</td></tr>\n",
       "\t<tr><td>November </td><td> 95617.36</td></tr>\n",
       "\t<tr><td>September</td><td> 87369.02</td></tr>\n",
       "\t<tr><td>July     </td><td> 85657.03</td></tr>\n",
       "\t<tr><td>May      </td><td> 76722.36</td></tr>\n",
       "\t<tr><td>August   </td><td> 76591.09</td></tr>\n",
       "\t<tr><td>June     </td><td> 39088.00</td></tr>\n",
       "</tbody>\n",
       "</table>\n"
      ],
      "text/latex": [
       "A tibble: 12 × 2\n",
       "\\begin{tabular}{ll}\n",
       " month & total\\_revenue\\\\\n",
       " <chr> & <dbl>\\\\\n",
       "\\hline\n",
       "\t April     & 190329.95\\\\\n",
       "\t January   & 167547.52\\\\\n",
       "\t March     & 149805.35\\\\\n",
       "\t February  & 145769.15\\\\\n",
       "\t December  & 128429.66\\\\\n",
       "\t October   & 111532.10\\\\\n",
       "\t November  &  95617.36\\\\\n",
       "\t September &  87369.02\\\\\n",
       "\t July      &  85657.03\\\\\n",
       "\t May       &  76722.36\\\\\n",
       "\t August    &  76591.09\\\\\n",
       "\t June      &  39088.00\\\\\n",
       "\\end{tabular}\n"
      ],
      "text/markdown": [
       "\n",
       "A tibble: 12 × 2\n",
       "\n",
       "| month &lt;chr&gt; | total_revenue &lt;dbl&gt; |\n",
       "|---|---|\n",
       "| April     | 190329.95 |\n",
       "| January   | 167547.52 |\n",
       "| March     | 149805.35 |\n",
       "| February  | 145769.15 |\n",
       "| December  | 128429.66 |\n",
       "| October   | 111532.10 |\n",
       "| November  |  95617.36 |\n",
       "| September |  87369.02 |\n",
       "| July      |  85657.03 |\n",
       "| May       |  76722.36 |\n",
       "| August    |  76591.09 |\n",
       "| June      |  39088.00 |\n",
       "\n"
      ],
      "text/plain": [
       "   month     total_revenue\n",
       "1  April     190329.95    \n",
       "2  January   167547.52    \n",
       "3  March     149805.35    \n",
       "4  February  145769.15    \n",
       "5  December  128429.66    \n",
       "6  October   111532.10    \n",
       "7  November   95617.36    \n",
       "8  September  87369.02    \n",
       "9  July       85657.03    \n",
       "10 May        76722.36    \n",
       "11 August     76591.09    \n",
       "12 June       39088.00    "
      ]
     },
     "metadata": {},
     "output_type": "display_data"
    }
   ],
   "source": [
    "# checks for possibble seasonal trends in sales by month \n",
    "best_month_performance <- df%>%\n",
    "group_by(month)%>%\n",
    "summarise(total_revenue = sum(unit_price * order_quantity, na.rm = TRUE), .groups = 'drop_last')%>% \n",
    "ungroup()%>%\n",
    "arrange(desc(total_revenue))\n",
    "\n",
    "best_month_performance"
   ]
  },
  {
   "cell_type": "code",
   "execution_count": null,
   "id": "8b179ca9",
   "metadata": {
    "vscode": {
     "languageId": "r"
    }
   },
   "outputs": [
    {
     "data": {
      "image/png": "[encoded data removed]",
      "text/plain": [
       "plot without title"
      ]
     },
     "metadata": {
      "image/png": {
       "height": 420,
       "width": 420
      }
     },
     "output_type": "display_data"
    }
   ],
   "source": [
    "# prints barplot visualization for seasonal trends by month\n",
    "ggplot(best_month_performance, aes(x = reorder(month, -total_revenue), y = total_revenue)) +\n",
    "geom_col(aes(fill = month)) +\n",
    "labs(\n",
    "    title = \"Top Month By Revenue\",\n",
    "    x = \"Months\",\n",
    "    y = \"Total Revenue\"\n",
    "    ) +\n",
    "theme(\n",
    "    axis.text.x = element_text(angle = 45, hjust = 1) # Rotate labels if they overlap\n",
    "  )"
   ]
  },
  {
   "cell_type": "code",
   "execution_count": null,
   "id": "bd93eccf",
   "metadata": {
    "vscode": {
     "languageId": "r"
    }
   },
   "outputs": [
    {
     "data": {
      "text/html": [
       "<table class=\"dataframe\">\n",
       "<caption>A tibble: 3 × 2</caption>\n",
       "<thead>\n",
       "\t<tr><th scope=col>year</th><th scope=col>total_revenue</th></tr>\n",
       "\t<tr><th scope=col>&lt;dbl&gt;</th><th scope=col>&lt;dbl&gt;</th></tr>\n",
       "</thead>\n",
       "<tbody>\n",
       "\t<tr><td>1997</td><td>658388.8</td></tr>\n",
       "\t<tr><td>1998</td><td>469771.3</td></tr>\n",
       "\t<tr><td>1996</td><td>226298.5</td></tr>\n",
       "</tbody>\n",
       "</table>\n"
      ],
      "text/latex": [
       "A tibble: 3 × 2\n",
       "\\begin{tabular}{ll}\n",
       " year & total\\_revenue\\\\\n",
       " <dbl> & <dbl>\\\\\n",
       "\\hline\n",
       "\t 1997 & 658388.8\\\\\n",
       "\t 1998 & 469771.3\\\\\n",
       "\t 1996 & 226298.5\\\\\n",
       "\\end{tabular}\n"
      ],
      "text/markdown": [
       "\n",
       "A tibble: 3 × 2\n",
       "\n",
       "| year &lt;dbl&gt; | total_revenue &lt;dbl&gt; |\n",
       "|---|---|\n",
       "| 1997 | 658388.8 |\n",
       "| 1998 | 469771.3 |\n",
       "| 1996 | 226298.5 |\n",
       "\n"
      ],
      "text/plain": [
       "  year total_revenue\n",
       "1 1997 658388.8     \n",
       "2 1998 469771.3     \n",
       "3 1996 226298.5     "
      ]
     },
     "metadata": {},
     "output_type": "display_data"
    }
   ],
   "source": [
    "# checks for possibble seasonal trends in sales by year\n",
    "best_year_performance <- df%>%\n",
    "group_by(year)%>%\n",
    "summarise(total_revenue = sum(unit_price * order_quantity, na.rm = TRUE), .groups = 'drop_last')%>% \n",
    "ungroup()%>%\n",
    "arrange(desc(total_revenue))\n",
    "\n",
    "best_year_performance"
   ]
  },
  {
   "cell_type": "code",
   "execution_count": null,
   "id": "feb187e2",
   "metadata": {
    "vscode": {
     "languageId": "r"
    }
   },
   "outputs": [
    {
     "data": {
      "image/png": "[encoded data removed]",
      "text/plain": [
       "plot without title"
      ]
     },
     "metadata": {
      "image/png": {
       "height": 420,
       "width": 420
      }
     },
     "output_type": "display_data"
    }
   ],
   "source": [
    "# prints barplot visualization for seasonal trends by year\n",
    "ggplot(best_year_performance, aes(x = reorder(year, -total_revenue), y = total_revenue)) +\n",
    "geom_col(aes(fill = year)) +\n",
    "labs(\n",
    "    title = \"Top Year By Revenue\",\n",
    "    x = \"Years\",\n",
    "    y = \"Total Revenue\"\n",
    "    ) "
   ]
  },
  {
   "cell_type": "code",
   "execution_count": null,
   "id": "4c5037c2",
   "metadata": {
    "vscode": {
     "languageId": "r"
    }
   },
   "outputs": [
    {
     "data": {
      "text/html": [
       "<table class=\"dataframe\">\n",
       "<caption>A tibble: 23 × 3</caption>\n",
       "<thead>\n",
       "\t<tr><th scope=col>year</th><th scope=col>month</th><th scope=col>total_revenue</th></tr>\n",
       "\t<tr><th scope=col>&lt;dbl&gt;</th><th scope=col>&lt;chr&gt;</th><th scope=col>&lt;dbl&gt;</th></tr>\n",
       "</thead>\n",
       "<tbody>\n",
       "\t<tr><td>1996</td><td>December </td><td> 50953.40</td></tr>\n",
       "\t<tr><td>1996</td><td>November </td><td> 49704.00</td></tr>\n",
       "\t<tr><td>1996</td><td>October  </td><td> 41203.60</td></tr>\n",
       "\t<tr><td>1996</td><td>July     </td><td> 30192.10</td></tr>\n",
       "\t<tr><td>1996</td><td>September</td><td> 27636.00</td></tr>\n",
       "\t<tr><td>1996</td><td>August   </td><td> 26609.40</td></tr>\n",
       "\t<tr><td>1997</td><td>December </td><td> 77476.26</td></tr>\n",
       "\t<tr><td>1997</td><td>October  </td><td> 70328.50</td></tr>\n",
       "\t<tr><td>1997</td><td>January  </td><td> 66692.80</td></tr>\n",
       "\t<tr><td>1997</td><td>September</td><td> 59733.02</td></tr>\n",
       "\t<tr><td>1997</td><td>May      </td><td> 56823.70</td></tr>\n",
       "\t<tr><td>1997</td><td>April    </td><td> 55699.39</td></tr>\n",
       "\t<tr><td>1997</td><td>July     </td><td> 55464.93</td></tr>\n",
       "\t<tr><td>1997</td><td>August   </td><td> 49981.69</td></tr>\n",
       "\t<tr><td>1997</td><td>November </td><td> 45913.36</td></tr>\n",
       "\t<tr><td>1997</td><td>February </td><td> 41207.20</td></tr>\n",
       "\t<tr><td>1997</td><td>March    </td><td> 39979.90</td></tr>\n",
       "\t<tr><td>1997</td><td>June     </td><td> 39088.00</td></tr>\n",
       "\t<tr><td>1998</td><td>April    </td><td>134630.56</td></tr>\n",
       "\t<tr><td>1998</td><td>March    </td><td>109825.45</td></tr>\n",
       "\t<tr><td>1998</td><td>February </td><td>104561.95</td></tr>\n",
       "\t<tr><td>1998</td><td>January  </td><td>100854.72</td></tr>\n",
       "\t<tr><td>1998</td><td>May      </td><td> 19898.66</td></tr>\n",
       "</tbody>\n",
       "</table>\n"
      ],
      "text/latex": [
       "A tibble: 23 × 3\n",
       "\\begin{tabular}{lll}\n",
       " year & month & total\\_revenue\\\\\n",
       " <dbl> & <chr> & <dbl>\\\\\n",
       "\\hline\n",
       "\t 1996 & December  &  50953.40\\\\\n",
       "\t 1996 & November  &  49704.00\\\\\n",
       "\t 1996 & October   &  41203.60\\\\\n",
       "\t 1996 & July      &  30192.10\\\\\n",
       "\t 1996 & September &  27636.00\\\\\n",
       "\t 1996 & August    &  26609.40\\\\\n",
       "\t 1997 & December  &  77476.26\\\\\n",
       "\t 1997 & October   &  70328.50\\\\\n",
       "\t 1997 & January   &  66692.80\\\\\n",
       "\t 1997 & September &  59733.02\\\\\n",
       "\t 1997 & May       &  56823.70\\\\\n",
       "\t 1997 & April     &  55699.39\\\\\n",
       "\t 1997 & July      &  55464.93\\\\\n",
       "\t 1997 & August    &  49981.69\\\\\n",
       "\t 1997 & November  &  45913.36\\\\\n",
       "\t 1997 & February  &  41207.20\\\\\n",
       "\t 1997 & March     &  39979.90\\\\\n",
       "\t 1997 & June      &  39088.00\\\\\n",
       "\t 1998 & April     & 134630.56\\\\\n",
       "\t 1998 & March     & 109825.45\\\\\n",
       "\t 1998 & February  & 104561.95\\\\\n",
       "\t 1998 & January   & 100854.72\\\\\n",
       "\t 1998 & May       &  19898.66\\\\\n",
       "\\end{tabular}\n"
      ],
      "text/markdown": [
       "\n",
       "A tibble: 23 × 3\n",
       "\n",
       "| year &lt;dbl&gt; | month &lt;chr&gt; | total_revenue &lt;dbl&gt; |\n",
       "|---|---|---|\n",
       "| 1996 | December  |  50953.40 |\n",
       "| 1996 | November  |  49704.00 |\n",
       "| 1996 | October   |  41203.60 |\n",
       "| 1996 | July      |  30192.10 |\n",
       "| 1996 | September |  27636.00 |\n",
       "| 1996 | August    |  26609.40 |\n",
       "| 1997 | December  |  77476.26 |\n",
       "| 1997 | October   |  70328.50 |\n",
       "| 1997 | January   |  66692.80 |\n",
       "| 1997 | September |  59733.02 |\n",
       "| 1997 | May       |  56823.70 |\n",
       "| 1997 | April     |  55699.39 |\n",
       "| 1997 | July      |  55464.93 |\n",
       "| 1997 | August    |  49981.69 |\n",
       "| 1997 | November  |  45913.36 |\n",
       "| 1997 | February  |  41207.20 |\n",
       "| 1997 | March     |  39979.90 |\n",
       "| 1997 | June      |  39088.00 |\n",
       "| 1998 | April     | 134630.56 |\n",
       "| 1998 | March     | 109825.45 |\n",
       "| 1998 | February  | 104561.95 |\n",
       "| 1998 | January   | 100854.72 |\n",
       "| 1998 | May       |  19898.66 |\n",
       "\n"
      ],
      "text/plain": [
       "   year month     total_revenue\n",
       "1  1996 December   50953.40    \n",
       "2  1996 November   49704.00    \n",
       "3  1996 October    41203.60    \n",
       "4  1996 July       30192.10    \n",
       "5  1996 September  27636.00    \n",
       "6  1996 August     26609.40    \n",
       "7  1997 December   77476.26    \n",
       "8  1997 October    70328.50    \n",
       "9  1997 January    66692.80    \n",
       "10 1997 September  59733.02    \n",
       "11 1997 May        56823.70    \n",
       "12 1997 April      55699.39    \n",
       "13 1997 July       55464.93    \n",
       "14 1997 August     49981.69    \n",
       "15 1997 November   45913.36    \n",
       "16 1997 February   41207.20    \n",
       "17 1997 March      39979.90    \n",
       "18 1997 June       39088.00    \n",
       "19 1998 April     134630.56    \n",
       "20 1998 March     109825.45    \n",
       "21 1998 February  104561.95    \n",
       "22 1998 January   100854.72    \n",
       "23 1998 May        19898.66    "
      ]
     },
     "metadata": {},
     "output_type": "display_data"
    }
   ],
   "source": [
    "# checks for possibble seasonal trends in sales by months per year \n",
    "best_year_month <- df%>%\n",
    "group_by(year, month)%>%\n",
    "summarise(total_revenue = sum(unit_price * order_quantity, na.rm = TRUE), .groups = 'drop_last')%>% \n",
    "ungroup()%>%\n",
    "arrange(year, desc(total_revenue))\n",
    "\n",
    "best_year_month"
   ]
  },
  {
   "cell_type": "code",
   "execution_count": null,
   "id": "91f60f5f",
   "metadata": {
    "vscode": {
     "languageId": "r"
    }
   },
   "outputs": [
    {
     "data": {
      "image/png": "[encoded data removed]",
      "text/plain": [
       "plot without title"
      ]
     },
     "metadata": {
      "image/png": {
       "height": 420,
       "width": 420
      }
     },
     "output_type": "display_data"
    }
   ],
   "source": [
    "# prints barplot visualization for seasonal trends by months per year \n",
    "ggplot(best_year_month, aes(x = month, y = total_revenue, fill = factor(year))) +\n",
    "  geom_col(aes(fill = month)) + \n",
    "  facet_wrap(~ year, scales = \"free_y\", ncol = 1) + \n",
    "  labs(\n",
    "    title = \"Monthly Total Revenue by Year\",\n",
    "    x = \"Month\",\n",
    "    y = \"Total Revenue\",\n",
    "    fill = \"Year\"\n",
    "  ) +\n",
    "  theme(\n",
    "    plot.title = element_text(hjust = 0.5, face = \"bold\"),\n",
    "    axis.text.x = element_text(angle = 45, hjust = 1)\n",
    "  )"
   ]
  },
  {
   "cell_type": "code",
   "execution_count": null,
   "id": "a926b03e",
   "metadata": {
    "vscode": {
     "languageId": "r"
    }
   },
   "outputs": [
    {
     "data": {
      "text/html": [
       "<table class=\"dataframe\">\n",
       "<caption>A tibble: 24 × 3</caption>\n",
       "<thead>\n",
       "\t<tr><th scope=col>year</th><th scope=col>category_name</th><th scope=col>total_revenue</th></tr>\n",
       "\t<tr><th scope=col>&lt;dbl&gt;</th><th scope=col>&lt;chr&gt;</th><th scope=col>&lt;dbl&gt;</th></tr>\n",
       "</thead>\n",
       "<tbody>\n",
       "\t<tr><td>1996</td><td>Beverages     </td><td> 53879.20</td></tr>\n",
       "\t<tr><td>1996</td><td>Dairy Products</td><td> 44615.80</td></tr>\n",
       "\t<tr><td>1996</td><td>Confections   </td><td> 31511.60</td></tr>\n",
       "\t<tr><td>1996</td><td>Meat/Poultry  </td><td> 30292.20</td></tr>\n",
       "\t<tr><td>1996</td><td>Seafood       </td><td> 21589.60</td></tr>\n",
       "\t<tr><td>1996</td><td>Condiments    </td><td> 19458.30</td></tr>\n",
       "\t<tr><td>1996</td><td>Produce       </td><td> 15134.20</td></tr>\n",
       "\t<tr><td>1996</td><td>Grains/Cereals</td><td>  9817.60</td></tr>\n",
       "\t<tr><td>1997</td><td>Dairy Products</td><td>123910.80</td></tr>\n",
       "\t<tr><td>1997</td><td>Beverages     </td><td>110424.00</td></tr>\n",
       "\t<tr><td>1997</td><td>Meat/Poultry  </td><td> 87621.03</td></tr>\n",
       "\t<tr><td>1997</td><td>Confections   </td><td> 87227.77</td></tr>\n",
       "\t<tr><td>1997</td><td>Seafood       </td><td> 71320.65</td></tr>\n",
       "\t<tr><td>1997</td><td>Grains/Cereals</td><td> 60486.95</td></tr>\n",
       "\t<tr><td>1997</td><td>Condiments    </td><td> 59679.00</td></tr>\n",
       "\t<tr><td>1997</td><td>Produce       </td><td> 57718.55</td></tr>\n",
       "\t<tr><td>1998</td><td>Beverages     </td><td>122223.75</td></tr>\n",
       "\t<tr><td>1998</td><td>Dairy Products</td><td> 82803.90</td></tr>\n",
       "\t<tr><td>1998</td><td>Meat/Poultry  </td><td> 60275.57</td></tr>\n",
       "\t<tr><td>1998</td><td>Confections   </td><td> 58359.73</td></tr>\n",
       "\t<tr><td>1998</td><td>Seafood       </td><td> 48712.84</td></tr>\n",
       "\t<tr><td>1998</td><td>Condiments    </td><td> 34557.45</td></tr>\n",
       "\t<tr><td>1998</td><td>Produce       </td><td> 32415.85</td></tr>\n",
       "\t<tr><td>1998</td><td>Grains/Cereals</td><td> 30422.25</td></tr>\n",
       "</tbody>\n",
       "</table>\n"
      ],
      "text/latex": [
       "A tibble: 24 × 3\n",
       "\\begin{tabular}{lll}\n",
       " year & category\\_name & total\\_revenue\\\\\n",
       " <dbl> & <chr> & <dbl>\\\\\n",
       "\\hline\n",
       "\t 1996 & Beverages      &  53879.20\\\\\n",
       "\t 1996 & Dairy Products &  44615.80\\\\\n",
       "\t 1996 & Confections    &  31511.60\\\\\n",
       "\t 1996 & Meat/Poultry   &  30292.20\\\\\n",
       "\t 1996 & Seafood        &  21589.60\\\\\n",
       "\t 1996 & Condiments     &  19458.30\\\\\n",
       "\t 1996 & Produce        &  15134.20\\\\\n",
       "\t 1996 & Grains/Cereals &   9817.60\\\\\n",
       "\t 1997 & Dairy Products & 123910.80\\\\\n",
       "\t 1997 & Beverages      & 110424.00\\\\\n",
       "\t 1997 & Meat/Poultry   &  87621.03\\\\\n",
       "\t 1997 & Confections    &  87227.77\\\\\n",
       "\t 1997 & Seafood        &  71320.65\\\\\n",
       "\t 1997 & Grains/Cereals &  60486.95\\\\\n",
       "\t 1997 & Condiments     &  59679.00\\\\\n",
       "\t 1997 & Produce        &  57718.55\\\\\n",
       "\t 1998 & Beverages      & 122223.75\\\\\n",
       "\t 1998 & Dairy Products &  82803.90\\\\\n",
       "\t 1998 & Meat/Poultry   &  60275.57\\\\\n",
       "\t 1998 & Confections    &  58359.73\\\\\n",
       "\t 1998 & Seafood        &  48712.84\\\\\n",
       "\t 1998 & Condiments     &  34557.45\\\\\n",
       "\t 1998 & Produce        &  32415.85\\\\\n",
       "\t 1998 & Grains/Cereals &  30422.25\\\\\n",
       "\\end{tabular}\n"
      ],
      "text/markdown": [
       "\n",
       "A tibble: 24 × 3\n",
       "\n",
       "| year &lt;dbl&gt; | category_name &lt;chr&gt; | total_revenue &lt;dbl&gt; |\n",
       "|---|---|---|\n",
       "| 1996 | Beverages      |  53879.20 |\n",
       "| 1996 | Dairy Products |  44615.80 |\n",
       "| 1996 | Confections    |  31511.60 |\n",
       "| 1996 | Meat/Poultry   |  30292.20 |\n",
       "| 1996 | Seafood        |  21589.60 |\n",
       "| 1996 | Condiments     |  19458.30 |\n",
       "| 1996 | Produce        |  15134.20 |\n",
       "| 1996 | Grains/Cereals |   9817.60 |\n",
       "| 1997 | Dairy Products | 123910.80 |\n",
       "| 1997 | Beverages      | 110424.00 |\n",
       "| 1997 | Meat/Poultry   |  87621.03 |\n",
       "| 1997 | Confections    |  87227.77 |\n",
       "| 1997 | Seafood        |  71320.65 |\n",
       "| 1997 | Grains/Cereals |  60486.95 |\n",
       "| 1997 | Condiments     |  59679.00 |\n",
       "| 1997 | Produce        |  57718.55 |\n",
       "| 1998 | Beverages      | 122223.75 |\n",
       "| 1998 | Dairy Products |  82803.90 |\n",
       "| 1998 | Meat/Poultry   |  60275.57 |\n",
       "| 1998 | Confections    |  58359.73 |\n",
       "| 1998 | Seafood        |  48712.84 |\n",
       "| 1998 | Condiments     |  34557.45 |\n",
       "| 1998 | Produce        |  32415.85 |\n",
       "| 1998 | Grains/Cereals |  30422.25 |\n",
       "\n"
      ],
      "text/plain": [
       "   year category_name  total_revenue\n",
       "1  1996 Beverages       53879.20    \n",
       "2  1996 Dairy Products  44615.80    \n",
       "3  1996 Confections     31511.60    \n",
       "4  1996 Meat/Poultry    30292.20    \n",
       "5  1996 Seafood         21589.60    \n",
       "6  1996 Condiments      19458.30    \n",
       "7  1996 Produce         15134.20    \n",
       "8  1996 Grains/Cereals   9817.60    \n",
       "9  1997 Dairy Products 123910.80    \n",
       "10 1997 Beverages      110424.00    \n",
       "11 1997 Meat/Poultry    87621.03    \n",
       "12 1997 Confections     87227.77    \n",
       "13 1997 Seafood         71320.65    \n",
       "14 1997 Grains/Cereals  60486.95    \n",
       "15 1997 Condiments      59679.00    \n",
       "16 1997 Produce         57718.55    \n",
       "17 1998 Beverages      122223.75    \n",
       "18 1998 Dairy Products  82803.90    \n",
       "19 1998 Meat/Poultry    60275.57    \n",
       "20 1998 Confections     58359.73    \n",
       "21 1998 Seafood         48712.84    \n",
       "22 1998 Condiments      34557.45    \n",
       "23 1998 Produce         32415.85    \n",
       "24 1998 Grains/Cereals  30422.25    "
      ]
     },
     "metadata": {},
     "output_type": "display_data"
    }
   ],
   "source": [
    "# checks for possibble seasonal trends in sales by category per year\n",
    "best_cat_year <- df%>%\n",
    "group_by(year, category_name)%>%\n",
    "summarise(total_revenue = sum(unit_price * order_quantity, na.rm = TRUE), .groups = 'drop_last')%>% \n",
    "ungroup()%>%\n",
    "arrange(year, desc(total_revenue))\n",
    "\n",
    "best_cat_year"
   ]
  },
  {
   "cell_type": "code",
   "execution_count": null,
   "id": "d113a02f",
   "metadata": {
    "vscode": {
     "languageId": "r"
    }
   },
   "outputs": [
    {
     "data": {
      "image/png": "[encoded data removed]",
      "text/plain": [
       "plot without title"
      ]
     },
     "metadata": {
      "image/png": {
       "height": 420,
       "width": 420
      }
     },
     "output_type": "display_data"
    }
   ],
   "source": [
    "# prints barplot visualization for seasonal trends by category per year \n",
    "ggplot(best_cat_year, aes(x = reorder(category_name, -total_revenue), y = total_revenue, fill = factor(year))) +\n",
    "  geom_col(aes(fill = category_name)) + \n",
    "  facet_wrap(~ year, scales = \"free_y\", ncol = 1) + \n",
    "  labs(\n",
    "    title = \"Best Performing Category Per Year\",\n",
    "    x = \"Category\",\n",
    "    y = \"Total Revenue\",\n",
    "    fill = \"Year\"\n",
    "  ) +\n",
    "  theme(\n",
    "    plot.title = element_text(hjust = 0.5, face = \"bold\"),\n",
    "    axis.text.x = element_text(angle = 45, hjust = 1)\n",
    "  )"
   ]
  },
  {
   "cell_type": "code",
   "execution_count": null,
   "id": "ba84230d",
   "metadata": {
    "vscode": {
     "languageId": "r"
    }
   },
   "outputs": [
    {
     "data": {
      "text/html": [
       "<table class=\"dataframe\">\n",
       "<caption>A tibble: 15 × 3</caption>\n",
       "<thead>\n",
       "\t<tr><th scope=col>year</th><th scope=col>product_name</th><th scope=col>total_revenue</th></tr>\n",
       "\t<tr><th scope=col>&lt;dbl&gt;</th><th scope=col>&lt;chr&gt;</th><th scope=col>&lt;dbl&gt;</th></tr>\n",
       "</thead>\n",
       "<tbody>\n",
       "\t<tr><td>1996</td><td>Côte de Blaye          </td><td>29512.00</td></tr>\n",
       "\t<tr><td>1996</td><td>Thüringer Rostbratwurst</td><td>12177.00</td></tr>\n",
       "\t<tr><td>1996</td><td>Raclette Courdavault   </td><td>10164.00</td></tr>\n",
       "\t<tr><td>1996</td><td>Camembert Pierrot      </td><td>10064.00</td></tr>\n",
       "\t<tr><td>1996</td><td>Tarte au sucre         </td><td> 9850.00</td></tr>\n",
       "\t<tr><td>1997</td><td>Côte de Blaye          </td><td>51962.20</td></tr>\n",
       "\t<tr><td>1997</td><td>Raclette Courdavault   </td><td>37917.00</td></tr>\n",
       "\t<tr><td>1997</td><td>Thüringer Rostbratwurst</td><td>36194.18</td></tr>\n",
       "\t<tr><td>1997</td><td>Gnocchi di nonna Alice </td><td>34754.80</td></tr>\n",
       "\t<tr><td>1997</td><td>Manjimup Dried Apples  </td><td>26065.40</td></tr>\n",
       "\t<tr><td>1998</td><td>Côte de Blaye          </td><td>68510.00</td></tr>\n",
       "\t<tr><td>1998</td><td>Thüringer Rostbratwurst</td><td>39365.22</td></tr>\n",
       "\t<tr><td>1998</td><td>Raclette Courdavault   </td><td>28215.00</td></tr>\n",
       "\t<tr><td>1998</td><td>Camembert Pierrot      </td><td>18428.00</td></tr>\n",
       "\t<tr><td>1998</td><td>Tarte au sucre         </td><td>17304.30</td></tr>\n",
       "</tbody>\n",
       "</table>\n"
      ],
      "text/latex": [
       "A tibble: 15 × 3\n",
       "\\begin{tabular}{lll}\n",
       " year & product\\_name & total\\_revenue\\\\\n",
       " <dbl> & <chr> & <dbl>\\\\\n",
       "\\hline\n",
       "\t 1996 & Côte de Blaye           & 29512.00\\\\\n",
       "\t 1996 & Thüringer Rostbratwurst & 12177.00\\\\\n",
       "\t 1996 & Raclette Courdavault    & 10164.00\\\\\n",
       "\t 1996 & Camembert Pierrot       & 10064.00\\\\\n",
       "\t 1996 & Tarte au sucre          &  9850.00\\\\\n",
       "\t 1997 & Côte de Blaye           & 51962.20\\\\\n",
       "\t 1997 & Raclette Courdavault    & 37917.00\\\\\n",
       "\t 1997 & Thüringer Rostbratwurst & 36194.18\\\\\n",
       "\t 1997 & Gnocchi di nonna Alice  & 34754.80\\\\\n",
       "\t 1997 & Manjimup Dried Apples   & 26065.40\\\\\n",
       "\t 1998 & Côte de Blaye           & 68510.00\\\\\n",
       "\t 1998 & Thüringer Rostbratwurst & 39365.22\\\\\n",
       "\t 1998 & Raclette Courdavault    & 28215.00\\\\\n",
       "\t 1998 & Camembert Pierrot       & 18428.00\\\\\n",
       "\t 1998 & Tarte au sucre          & 17304.30\\\\\n",
       "\\end{tabular}\n"
      ],
      "text/markdown": [
       "\n",
       "A tibble: 15 × 3\n",
       "\n",
       "| year &lt;dbl&gt; | product_name &lt;chr&gt; | total_revenue &lt;dbl&gt; |\n",
       "|---|---|---|\n",
       "| 1996 | Côte de Blaye           | 29512.00 |\n",
       "| 1996 | Thüringer Rostbratwurst | 12177.00 |\n",
       "| 1996 | Raclette Courdavault    | 10164.00 |\n",
       "| 1996 | Camembert Pierrot       | 10064.00 |\n",
       "| 1996 | Tarte au sucre          |  9850.00 |\n",
       "| 1997 | Côte de Blaye           | 51962.20 |\n",
       "| 1997 | Raclette Courdavault    | 37917.00 |\n",
       "| 1997 | Thüringer Rostbratwurst | 36194.18 |\n",
       "| 1997 | Gnocchi di nonna Alice  | 34754.80 |\n",
       "| 1997 | Manjimup Dried Apples   | 26065.40 |\n",
       "| 1998 | Côte de Blaye           | 68510.00 |\n",
       "| 1998 | Thüringer Rostbratwurst | 39365.22 |\n",
       "| 1998 | Raclette Courdavault    | 28215.00 |\n",
       "| 1998 | Camembert Pierrot       | 18428.00 |\n",
       "| 1998 | Tarte au sucre          | 17304.30 |\n",
       "\n"
      ],
      "text/plain": [
       "   year product_name            total_revenue\n",
       "1  1996 Côte de Blaye           29512.00     \n",
       "2  1996 Thüringer Rostbratwurst 12177.00     \n",
       "3  1996 Raclette Courdavault    10164.00     \n",
       "4  1996 Camembert Pierrot       10064.00     \n",
       "5  1996 Tarte au sucre           9850.00     \n",
       "6  1997 Côte de Blaye           51962.20     \n",
       "7  1997 Raclette Courdavault    37917.00     \n",
       "8  1997 Thüringer Rostbratwurst 36194.18     \n",
       "9  1997 Gnocchi di nonna Alice  34754.80     \n",
       "10 1997 Manjimup Dried Apples   26065.40     \n",
       "11 1998 Côte de Blaye           68510.00     \n",
       "12 1998 Thüringer Rostbratwurst 39365.22     \n",
       "13 1998 Raclette Courdavault    28215.00     \n",
       "14 1998 Camembert Pierrot       18428.00     \n",
       "15 1998 Tarte au sucre          17304.30     "
      ]
     },
     "metadata": {},
     "output_type": "display_data"
    }
   ],
   "source": [
    "# checks for possibble seasonal trends in sales by products per year \n",
    "best_prod_year <- df %>%\n",
    "  group_by(year, product_name) %>% \n",
    "  summarise(total_revenue = sum(unit_price * order_quantity, na.rm = TRUE), .groups = 'drop_last') %>%\n",
    "  slice_max(order_by = total_revenue, n = 5) %>%\n",
    "  ungroup() %>% \n",
    "  arrange(year, desc(total_revenue)) \n",
    "\n",
    "best_prod_year"
   ]
  },
  {
   "cell_type": "code",
   "execution_count": null,
   "id": "866599df",
   "metadata": {
    "vscode": {
     "languageId": "r"
    }
   },
   "outputs": [
    {
     "data": {
      "image/png": "[encoded data removed]",
      "text/plain": [
       "plot without title"
      ]
     },
     "metadata": {
      "image/png": {
       "height": 420,
       "width": 420
      }
     },
     "output_type": "display_data"
    }
   ],
   "source": [
    "# prints barplot visualization for seasonal trends by products per year \n",
    "ggplot(best_prod_year, aes(x = reorder(product_name, -total_revenue), y = total_revenue, fill = factor(year))) +\n",
    "  geom_col(aes(fill = product_name)) + \n",
    "  facet_wrap(~ year, scales = \"free_y\", ncol = 1) + \n",
    "  labs(\n",
    "    title = \"Best Performing Product Per Year\",\n",
    "    x = \"Product Nams\",\n",
    "    y = \"Total Revenue\",\n",
    "    fill = \"Year\"\n",
    "  ) +\n",
    "  theme(\n",
    "    plot.title = element_text(hjust = 0.5, face = \"bold\"),\n",
    "    axis.text.x = element_text(angle = 45, hjust = 1)\n",
    "  )"
   ]
  },
  {
   "cell_type": "markdown",
   "id": "8ae11c76",
   "metadata": {
    "vscode": {
     "languageId": "r"
    }
   },
   "source": [
    "# 🛍️ What is the average order size, and how has it changed?"
   ]
  },
  {
   "cell_type": "code",
   "execution_count": null,
   "id": "94add699",
   "metadata": {
    "vscode": {
     "languageId": "r"
    }
   },
   "outputs": [
    {
     "data": {
      "text/html": [
       "<table class=\"dataframe\">\n",
       "<caption>A tibble: 3 × 2</caption>\n",
       "<thead>\n",
       "\t<tr><th scope=col>year</th><th scope=col>mean</th></tr>\n",
       "\t<tr><th scope=col>&lt;dbl&gt;</th><th scope=col>&lt;dbl&gt;</th></tr>\n",
       "</thead>\n",
       "<tbody>\n",
       "\t<tr><td>1996</td><td>23.66</td></tr>\n",
       "\t<tr><td>1997</td><td>24.07</td></tr>\n",
       "\t<tr><td>1998</td><td>23.51</td></tr>\n",
       "</tbody>\n",
       "</table>\n"
      ],
      "text/latex": [
       "A tibble: 3 × 2\n",
       "\\begin{tabular}{ll}\n",
       " year & mean\\\\\n",
       " <dbl> & <dbl>\\\\\n",
       "\\hline\n",
       "\t 1996 & 23.66\\\\\n",
       "\t 1997 & 24.07\\\\\n",
       "\t 1998 & 23.51\\\\\n",
       "\\end{tabular}\n"
      ],
      "text/markdown": [
       "\n",
       "A tibble: 3 × 2\n",
       "\n",
       "| year &lt;dbl&gt; | mean &lt;dbl&gt; |\n",
       "|---|---|\n",
       "| 1996 | 23.66 |\n",
       "| 1997 | 24.07 |\n",
       "| 1998 | 23.51 |\n",
       "\n"
      ],
      "text/plain": [
       "  year mean \n",
       "1 1996 23.66\n",
       "2 1997 24.07\n",
       "3 1998 23.51"
      ]
     },
     "metadata": {},
     "output_type": "display_data"
    }
   ],
   "source": [
    "# print average order size per year\n",
    "avg_order_size_per_year <- df %>%\n",
    "group_by(year)%>%\n",
    "summarise(mean = round(mean(order_quantity, na.rm = TRUE), 2), .groups = 'drop_last')\n",
    "\n",
    "avg_order_size_per_year"
   ]
  },
  {
   "cell_type": "code",
   "execution_count": null,
   "id": "ab8338f6",
   "metadata": {
    "vscode": {
     "languageId": "r"
    }
   },
   "outputs": [
    {
     "data": {
      "text/plain": [
       "<ggproto object: Class CoordFlip, CoordCartesian, Coord, gg>\n",
       "    aspect: function\n",
       "    backtransform_range: function\n",
       "    clip: on\n",
       "    default: FALSE\n",
       "    distance: function\n",
       "    expand: TRUE\n",
       "    is_free: function\n",
       "    is_linear: function\n",
       "    labels: function\n",
       "    limits: list\n",
       "    modify_scales: function\n",
       "    range: function\n",
       "    render_axis_h: function\n",
       "    render_axis_v: function\n",
       "    render_bg: function\n",
       "    render_fg: function\n",
       "    setup_data: function\n",
       "    setup_layout: function\n",
       "    setup_panel_guides: function\n",
       "    setup_panel_params: function\n",
       "    setup_params: function\n",
       "    train_panel_guides: function\n",
       "    transform: function\n",
       "    super:  <ggproto object: Class CoordFlip, CoordCartesian, Coord, gg>"
      ]
     },
     "metadata": {},
     "output_type": "display_data"
    },
    {
     "data": {
      "image/png": "[encoded data removed]",
      "text/plain": [
       "plot without title"
      ]
     },
     "metadata": {
      "image/png": {
       "height": 420,
       "width": 420
      }
     },
     "output_type": "display_data"
    }
   ],
   "source": [
    "# visualize average order size per year\n",
    "ggplot(df, aes(y = factor(year), x = order_quantity)) +\n",
    "geom_boxplot() +\n",
    "stat_summary(fun = mean, geom = \"crossbar\", color = 'red') +\n",
    "facet_wrap(~ factor(year), scales = \"free_y\", ncol = 1) + \n",
    "labs(\n",
    "    title = 'Average Order Size By Year',\n",
    "    x = 'Year',\n",
    "    y = 'Average Order Size'\n",
    ")\n",
    "coord_flip()"
   ]
  },
  {
   "cell_type": "code",
   "execution_count": null,
   "id": "de9bf3bc",
   "metadata": {
    "vscode": {
     "languageId": "r"
    }
   },
   "outputs": [
    {
     "data": {
      "text/html": [
       "<table class=\"dataframe\">\n",
       "<caption>A tibble: 23 × 3</caption>\n",
       "<thead>\n",
       "\t<tr><th scope=col>year</th><th scope=col>month</th><th scope=col>avg</th></tr>\n",
       "\t<tr><th scope=col>&lt;dbl&gt;</th><th scope=col>&lt;chr&gt;</th><th scope=col>&lt;dbl&gt;</th></tr>\n",
       "</thead>\n",
       "<tbody>\n",
       "\t<tr><td>1996</td><td>December </td><td>27.16</td></tr>\n",
       "\t<tr><td>1996</td><td>November </td><td>26.29</td></tr>\n",
       "\t<tr><td>1996</td><td>July     </td><td>24.78</td></tr>\n",
       "\t<tr><td>1996</td><td>October  </td><td>23.81</td></tr>\n",
       "\t<tr><td>1996</td><td>September</td><td>19.72</td></tr>\n",
       "\t<tr><td>1996</td><td>August   </td><td>19.16</td></tr>\n",
       "\t<tr><td>1997</td><td>January  </td><td>28.25</td></tr>\n",
       "\t<tr><td>1997</td><td>February </td><td>26.99</td></tr>\n",
       "\t<tr><td>1997</td><td>July     </td><td>26.68</td></tr>\n",
       "\t<tr><td>1997</td><td>October  </td><td>25.27</td></tr>\n",
       "\t<tr><td>1997</td><td>September</td><td>24.66</td></tr>\n",
       "\t<tr><td>1997</td><td>April    </td><td>23.60</td></tr>\n",
       "\t<tr><td>1997</td><td>December </td><td>23.53</td></tr>\n",
       "\t<tr><td>1997</td><td>March    </td><td>22.99</td></tr>\n",
       "\t<tr><td>1997</td><td>May      </td><td>22.54</td></tr>\n",
       "\t<tr><td>1997</td><td>August   </td><td>22.15</td></tr>\n",
       "\t<tr><td>1997</td><td>June     </td><td>21.51</td></tr>\n",
       "\t<tr><td>1997</td><td>November </td><td>20.85</td></tr>\n",
       "\t<tr><td>1998</td><td>April    </td><td>26.00</td></tr>\n",
       "\t<tr><td>1998</td><td>February </td><td>25.53</td></tr>\n",
       "\t<tr><td>1998</td><td>March    </td><td>22.84</td></tr>\n",
       "\t<tr><td>1998</td><td>January  </td><td>22.80</td></tr>\n",
       "\t<tr><td>1998</td><td>May      </td><td>15.61</td></tr>\n",
       "</tbody>\n",
       "</table>\n"
      ],
      "text/latex": [
       "A tibble: 23 × 3\n",
       "\\begin{tabular}{lll}\n",
       " year & month & avg\\\\\n",
       " <dbl> & <chr> & <dbl>\\\\\n",
       "\\hline\n",
       "\t 1996 & December  & 27.16\\\\\n",
       "\t 1996 & November  & 26.29\\\\\n",
       "\t 1996 & July      & 24.78\\\\\n",
       "\t 1996 & October   & 23.81\\\\\n",
       "\t 1996 & September & 19.72\\\\\n",
       "\t 1996 & August    & 19.16\\\\\n",
       "\t 1997 & January   & 28.25\\\\\n",
       "\t 1997 & February  & 26.99\\\\\n",
       "\t 1997 & July      & 26.68\\\\\n",
       "\t 1997 & October   & 25.27\\\\\n",
       "\t 1997 & September & 24.66\\\\\n",
       "\t 1997 & April     & 23.60\\\\\n",
       "\t 1997 & December  & 23.53\\\\\n",
       "\t 1997 & March     & 22.99\\\\\n",
       "\t 1997 & May       & 22.54\\\\\n",
       "\t 1997 & August    & 22.15\\\\\n",
       "\t 1997 & June      & 21.51\\\\\n",
       "\t 1997 & November  & 20.85\\\\\n",
       "\t 1998 & April     & 26.00\\\\\n",
       "\t 1998 & February  & 25.53\\\\\n",
       "\t 1998 & March     & 22.84\\\\\n",
       "\t 1998 & January   & 22.80\\\\\n",
       "\t 1998 & May       & 15.61\\\\\n",
       "\\end{tabular}\n"
      ],
      "text/markdown": [
       "\n",
       "A tibble: 23 × 3\n",
       "\n",
       "| year &lt;dbl&gt; | month &lt;chr&gt; | avg &lt;dbl&gt; |\n",
       "|---|---|---|\n",
       "| 1996 | December  | 27.16 |\n",
       "| 1996 | November  | 26.29 |\n",
       "| 1996 | July      | 24.78 |\n",
       "| 1996 | October   | 23.81 |\n",
       "| 1996 | September | 19.72 |\n",
       "| 1996 | August    | 19.16 |\n",
       "| 1997 | January   | 28.25 |\n",
       "| 1997 | February  | 26.99 |\n",
       "| 1997 | July      | 26.68 |\n",
       "| 1997 | October   | 25.27 |\n",
       "| 1997 | September | 24.66 |\n",
       "| 1997 | April     | 23.60 |\n",
       "| 1997 | December  | 23.53 |\n",
       "| 1997 | March     | 22.99 |\n",
       "| 1997 | May       | 22.54 |\n",
       "| 1997 | August    | 22.15 |\n",
       "| 1997 | June      | 21.51 |\n",
       "| 1997 | November  | 20.85 |\n",
       "| 1998 | April     | 26.00 |\n",
       "| 1998 | February  | 25.53 |\n",
       "| 1998 | March     | 22.84 |\n",
       "| 1998 | January   | 22.80 |\n",
       "| 1998 | May       | 15.61 |\n",
       "\n"
      ],
      "text/plain": [
       "   year month     avg  \n",
       "1  1996 December  27.16\n",
       "2  1996 November  26.29\n",
       "3  1996 July      24.78\n",
       "4  1996 October   23.81\n",
       "5  1996 September 19.72\n",
       "6  1996 August    19.16\n",
       "7  1997 January   28.25\n",
       "8  1997 February  26.99\n",
       "9  1997 July      26.68\n",
       "10 1997 October   25.27\n",
       "11 1997 September 24.66\n",
       "12 1997 April     23.60\n",
       "13 1997 December  23.53\n",
       "14 1997 March     22.99\n",
       "15 1997 May       22.54\n",
       "16 1997 August    22.15\n",
       "17 1997 June      21.51\n",
       "18 1997 November  20.85\n",
       "19 1998 April     26.00\n",
       "20 1998 February  25.53\n",
       "21 1998 March     22.84\n",
       "22 1998 January   22.80\n",
       "23 1998 May       15.61"
      ]
     },
     "metadata": {},
     "output_type": "display_data"
    }
   ],
   "source": [
    "# printaverage order size per month\n",
    "monthly_order_size <- df%>%\n",
    "group_by(year, month)%>%\n",
    "summarize(avg = round(mean(order_quantity, na.rm = TRUE), 2), .groups = 'drop_last')%>%\n",
    "ungroup()%>%\n",
    "arrange(year, desc(avg))\n",
    "\n",
    "monthly_order_size\n",
    "\n"
   ]
  },
  {
   "cell_type": "code",
   "execution_count": null,
   "id": "910298d5",
   "metadata": {
    "vscode": {
     "languageId": "r"
    }
   },
   "outputs": [
    {
     "data": {
      "image/png": "[encoded data removed]",
      "text/plain": [
       "plot without title"
      ]
     },
     "metadata": {
      "image/png": {
       "height": 420,
       "width": 420
      }
     },
     "output_type": "display_data"
    }
   ],
   "source": [
    "#visualize average order size per year\n",
    "ggplot(monthly_order_size, aes(x = month, y = avg, fill = factor(year))) +\n",
    "  geom_col(aes(fill = month)) + \n",
    "  facet_wrap(~ year, scales = \"free_y\", ncol = 1) + \n",
    "  labs(\n",
    "    title = \"Monthly Total Revenue by Year\",\n",
    "    x = \"Month\",\n",
    "    y = \"Total Revenue\",\n",
    "    fill = \"Year\"\n",
    "  ) +\n",
    "  theme(\n",
    "    plot.title = element_text(hjust = 0.5, face = \"bold\"),\n",
    "    axis.text.x = element_text(angle = 45, hjust = 1)\n",
    "  )"
   ]
  }
 ],
 "metadata": {
  "kernelspec": {
   "display_name": "R",
   "language": "R",
   "name": "ir"
  },
  "language_info": {
   "codemirror_mode": "r",
   "file_extension": ".r",
   "mimetype": "text/x-r-source",
   "name": "R",
   "pygments_lexer": "r",
   "version": "4.5.0"
  }
 },
 "nbformat": 4,
 "nbformat_minor": 5
}
